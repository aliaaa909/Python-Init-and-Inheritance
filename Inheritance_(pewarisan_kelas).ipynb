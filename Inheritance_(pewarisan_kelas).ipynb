{
  "nbformat": 4,
  "nbformat_minor": 0,
  "metadata": {
    "colab": {
      "provenance": []
    },
    "kernelspec": {
      "name": "python3",
      "display_name": "Python 3"
    },
    "language_info": {
      "name": "python"
    }
  },
  "cells": [
    {
      "cell_type": "code",
      "execution_count": null,
      "metadata": {
        "id": "03uEUMpaFXk0"
      },
      "outputs": [],
      "source": [
        "class Mobil:\n",
        "  def __init__ (self, warna, merek, kecepatan):\n",
        "    self.warna = warna\n",
        "    self.merek = merek\n",
        "    self.kecepatan = kecepatan\n",
        "\n",
        "  def tambah_kecepatan(self):\n",
        "    self.kecepatan += 10\n",
        "\n",
        "mobil_1 = Mobil('merah', 'dicodingCar', 160)"
      ]
    },
    {
      "cell_type": "code",
      "source": [
        "print(mobil_1.kecepatan)"
      ],
      "metadata": {
        "colab": {
          "base_uri": "https://localhost:8080/"
        },
        "id": "uGm5XnTWGCWs",
        "outputId": "3be064c8-d17a-4e04-8370-ca2f115f522e"
      },
      "execution_count": null,
      "outputs": [
        {
          "output_type": "stream",
          "name": "stdout",
          "text": [
            "160\n"
          ]
        }
      ]
    },
    {
      "cell_type": "code",
      "source": [
        "class MobilSport(Mobil):\n",
        "  def turbo(self):\n",
        "    self.kecepatan += 50\n",
        "\n",
        "#class mobil dasar\n",
        "mobil_1 = Mobil('merah','dicodingCar',160)\n",
        "print(mobil_1.kecepatan)\n",
        "\n",
        "#class mobil sport\n",
        "mobil_sport_1 = MobilSport('hitam','dicodingCar',160)\n",
        "print(mobil_sport_1.kecepatan)\n",
        "\n",
        "mobil_sport_1.turbo()\n",
        "print(mobil_sport_1.kecepatan)\n"
      ],
      "metadata": {
        "colab": {
          "base_uri": "https://localhost:8080/"
        },
        "id": "hoVCEbSjGMbk",
        "outputId": "7e964ce0-77bd-4a04-8c45-41d06d0dd77b"
      },
      "execution_count": null,
      "outputs": [
        {
          "output_type": "stream",
          "name": "stdout",
          "text": [
            "160\n",
            "160\n",
            "210\n"
          ]
        }
      ]
    },
    {
      "cell_type": "code",
      "source": [
        "'''\n",
        "\n",
        "1. Buatlah class bernama Animal dengan ketentuan:\n",
        "    - Memiliki properti:\n",
        "      - name: string\n",
        "      - age: int\n",
        "      - species: string\n",
        "    - Memiliki constructor untuk menginisialisasi properti:\n",
        "      - name\n",
        "      - age\n",
        "      - species\n",
        "2. Buatlah class bernama Cat dengan ketentuan:\n",
        "    - Merupakan turunan dari class Animal\n",
        "    - Memiliki method:\n",
        "      - bernama \"deskripsi\" yang mengembalikan nilai string berikut ini.\n",
        "        \"{self.name} adalah kucing berjenis {self.species} yang sudah berumur {self.age} tahun\"\n",
        "      - bernama \"suara\" yang akan mengembalikan nilai string \"meow!\"\n",
        " 3. Buatlah instance dari kelas Cat bernama \"myCat\" dengan ketentuan:\n",
        "    - Atribut name bernilai: \"Neko\"\n",
        "    - Atribut age bernilai: 3\n",
        "    - Atribut species bernilai: \"Persian\".\n",
        "\"\"\"\n",
        "'''\n",
        "\n",
        "class Animal:\n",
        "  def __init__ (self, name, age, species):\n",
        "    self.name = name\n",
        "    self.age = age\n",
        "    self.species = species\n",
        "\n",
        "class Cat:\n",
        "  def deskripsi(self):\n",
        "    print({self.name} \"adalah kucing berjenis\" {self.species} \"yang sudah berumur\" {self.age} \"tahun\")\n",
        "\n",
        "\n",
        "\n",
        "\n",
        "\n"
      ],
      "metadata": {
        "id": "fSu_iyOGK-75"
      },
      "execution_count": null,
      "outputs": []
    }
  ]
}